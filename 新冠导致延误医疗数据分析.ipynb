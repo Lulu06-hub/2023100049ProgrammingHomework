{
 "cells": [
  {
   "cell_type": "code",
   "execution_count": 1,
   "metadata": {},
   "outputs": [],
   "source": [
    "# 导入PySpark\n",
    "import findspark\n",
    "findspark.init()#找到并激活Spark\n",
    "import pyspark\n",
    "# pyspark.__version__#查看版本信息\n",
    "# 指定计算机集群位置，链接到本地集群\n",
    "from pyspark import SparkContext\n",
    "sc = SparkContext(\"local\", \"First App\")#生成sc实例，这个和pyspark shell内置sc一样都是local"
   ]
  },
  {
   "cell_type": "code",
   "execution_count": 2,
   "metadata": {},
   "outputs": [],
   "source": [
    "from pyspark.sql import SparkSession\n",
    "spark = SparkSession.builder \\\n",
    "    .appName('local[*]') \\\n",
    "    .config('first_spark_application') \\\n",
    "    .getOrCreate()"
   ]
  },
  {
   "cell_type": "code",
   "execution_count": 3,
   "metadata": {},
   "outputs": [
    {
     "data": {
      "text/html": [
       "\n",
       "            <div>\n",
       "                <p><b>SparkSession - in-memory</b></p>\n",
       "                \n",
       "        <div>\n",
       "            <p><b>SparkContext</b></p>\n",
       "\n",
       "            <p><a href=\"http://master:4040\">Spark UI</a></p>\n",
       "\n",
       "            <dl>\n",
       "              <dt>Version</dt>\n",
       "                <dd><code>v3.3.0</code></dd>\n",
       "              <dt>Master</dt>\n",
       "                <dd><code>local</code></dd>\n",
       "              <dt>AppName</dt>\n",
       "                <dd><code>First App</code></dd>\n",
       "            </dl>\n",
       "        </div>\n",
       "        \n",
       "            </div>\n",
       "        "
      ],
      "text/plain": [
       "<pyspark.sql.session.SparkSession at 0x7f3071d92ca0>"
      ]
     },
     "execution_count": 3,
     "metadata": {},
     "output_type": "execute_result"
    }
   ],
   "source": [
    "spark"
   ]
  },
  {
   "cell_type": "markdown",
   "metadata": {},
   "source": [
    "# 第一部分 数据预处理"
   ]
  },
  {
   "cell_type": "markdown",
   "metadata": {},
   "source": [
    "## 读入并检查数据"
   ]
  },
  {
   "cell_type": "code",
   "execution_count": 4,
   "metadata": {},
   "outputs": [
    {
     "data": {
      "text/plain": [
       "27805"
      ]
     },
     "metadata": {},
     "output_type": "display_data"
    },
    {
     "data": {
      "text/plain": [
       "1452"
      ]
     },
     "metadata": {},
     "output_type": "display_data"
    }
   ],
   "source": [
    "# 读取文件构建dataframe\n",
    "df0 = spark.read.csv(\"fyc20.csv\", header = True, inferSchema = True, nullValue = 'NA')\n",
    "# 通过行数、列名与列数来检查数据读入是否正确\n",
    "display(df0.count())#行数\n",
    "display(len(df0.columns))#列数"
   ]
  },
  {
   "cell_type": "markdown",
   "metadata": {},
   "source": [
    "## 数据清洗"
   ]
  },
  {
   "cell_type": "code",
   "execution_count": 5,
   "metadata": {},
   "outputs": [
    {
     "data": {
      "text/plain": [
       "27805"
      ]
     },
     "metadata": {},
     "output_type": "display_data"
    },
    {
     "data": {
      "text/plain": [
       "1347"
      ]
     },
     "metadata": {},
     "output_type": "display_data"
    },
    {
     "data": {
      "text/plain": [
       "27443"
      ]
     },
     "metadata": {},
     "output_type": "display_data"
    },
    {
     "data": {
      "text/plain": [
       "1345"
      ]
     },
     "metadata": {},
     "output_type": "display_data"
    }
   ],
   "source": [
    "# 删除无用变量\n",
    "import pandas as pd\n",
    "drop_id = pd.read_excel(r\"变量簿5.0.xlsx\", sheet_name='该删掉的变量',header=None)  ## 读入该删除的变量，包括插补值、重复值和ID等\n",
    "drop_id = drop_id[0].tolist()\n",
    "df0 = df0.drop(*(drop_id))\n",
    "display(df0.count())#行数\n",
    "display(len(df0.columns))#列数\n",
    "\n",
    "## 对y做处理\n",
    "df0 = df0.filter((df0['CVDLAYCA53']>0) |(df0['CVDLAYDN53']>0) | (df0['CVDLAYPM53']>0)) # 只保留COVID_DELAY >0的行\n",
    "df0 = df0.withColumn(\"CVDLAY\",((df0['CVDLAYCA53']==1) |(df0['CVDLAYDN53']==1) | (df0['CVDLAYPM53']==1)).cast(\"int\")) ##3个covid相关列合成新列\n",
    "df0 = df0.drop(*['CVDLAYCA53','CVDLAYDN53','CVDLAYPM53'])# 删除旧列\n",
    "display(df0.count())#行数\n",
    "display(len(df0.columns))#列数"
   ]
  },
  {
   "cell_type": "code",
   "execution_count": 6,
   "metadata": {},
   "outputs": [],
   "source": [
    "# 同义变量只保留最近期调查值\n",
    "drop_list = []\n",
    "i = 0\n",
    "while i <= (len(df0.columns)-4):\n",
    "    #首先判断变量名中是否有‘31’\n",
    "    if df0.columns[i].count('31') >= 1:\n",
    "        #print(\"31\")\n",
    "        fol_str = df0.columns[i+1]+df0.columns[i+2]+df0.columns[i+3]\n",
    "        #判断是否是串联项出现，若有则只保留20项，并从20项后继续扫描\n",
    "        if df0.columns[i+3].count('20') >= 1:\n",
    "            #print(\"31+20\")\n",
    "            drop_list.append(df0.columns[i])\n",
    "            drop_list.append(df0.columns[i+1])\n",
    "            drop_list.append(df0.columns[i+2])\n",
    "            i+=4\n",
    "        elif df0.columns[i+2].count('53') >= 1:\n",
    "            #print(\"31+53\")\n",
    "            drop_list.append(df0.columns[i])\n",
    "            drop_list.append(df0.columns[i+1])\n",
    "            i+=3 \n",
    "        #其余的情况，若无串联，若后续变量中有较晚时期出现，则删掉此变量\n",
    "        elif (fol_str.count('20')+fol_str.count('53')+fol_str.count('42')) >= 1:\n",
    "            #print(\"31+\")\n",
    "            drop_list.append(df0.columns[i])\n",
    "            i+=1\n",
    "        else:\n",
    "            i+=1\n",
    "        continue\n",
    "    elif df0.columns[i].count('42') >= 1:\n",
    "        #print(\"42\")\n",
    "        fol_str = df0.columns[i+1]+df0.columns[i+2]\n",
    "        if (fol_str.count('20')+fol_str.count('53')) >= 1:\n",
    "            drop_list.append(df0.columns[i])\n",
    "            i+=1\n",
    "        else:\n",
    "            i+=1\n",
    "        continue\n",
    "    elif df0.columns[i].count('53') >= 1: \n",
    "        #print(\"53\")\n",
    "        if (df0.columns[i+1].count('20')) >= 1:\n",
    "            drop_list.append(df0.columns[i])\n",
    "            i+=1\n",
    "        else:\n",
    "            i+=1\n",
    "        continue\n",
    "    # 若是插补标志点，则删去\n",
    "    elif df0.columns[i].count('IMP') >= 1:\n",
    "            drop_list.append(df0.columns[i])\n",
    "            i+=1\n",
    "    else:\n",
    "        #print(\"not-deleted\")\n",
    "        i+=1 "
   ]
  },
  {
   "cell_type": "code",
   "execution_count": 7,
   "metadata": {},
   "outputs": [
    {
     "data": {
      "text/plain": [
       "1052"
      ]
     },
     "metadata": {},
     "output_type": "display_data"
    }
   ],
   "source": [
    "df = df0.drop(*drop_list)\n",
    "display(len(df.columns))#列数"
   ]
  },
  {
   "cell_type": "markdown",
   "metadata": {},
   "source": [
    "\n",
    "## 缺失值处理\n"
   ]
  },
  {
   "cell_type": "code",
   "execution_count": 8,
   "metadata": {},
   "outputs": [],
   "source": [
    "# 求每一列异常值（负值）的数量\n",
    "import pyspark.sql.functions as sql\n",
    "na_num = df.select([sql.count(sql.when((df[c]<0),c)).alias(c) \n",
    "            for c in df.columns])\n",
    "na_num = na_num.toPandas()"
   ]
  },
  {
   "cell_type": "code",
   "execution_count": 9,
   "metadata": {},
   "outputs": [
    {
     "data": {
      "text/plain": [
       "844"
      ]
     },
     "metadata": {},
     "output_type": "display_data"
    }
   ],
   "source": [
    "#删除异常值占比超过50%的列\n",
    "thre = round(df.count()*0.5,0) # 取删除阈值\n",
    "drop_list = []\n",
    "for i in df.columns:\n",
    "    if na_num[i][0]>=thre:\n",
    "        #print(i)\n",
    "        drop_list.append(i)\n",
    "\n",
    "df = df.drop(*drop_list)\n",
    "display(len(df.columns))#列数"
   ]
  },
  {
   "cell_type": "code",
   "execution_count": 10,
   "metadata": {
    "scrolled": true
   },
   "outputs": [],
   "source": [
    "for i in df.columns:\n",
    "    df = df.withColumn(i, sql.col(i)*df.PERWT20F)  # 乘上个人权重\n",
    "    df = df.withColumn(i, sql.when(sql.col(i)<0,0).otherwise(sql.col(i)))# 把负值（缺失）补成0"
   ]
  },
  {
   "cell_type": "markdown",
   "metadata": {},
   "source": [
    "# 第二部分 可视化"
   ]
  },
  {
   "cell_type": "code",
   "execution_count": 11,
   "metadata": {},
   "outputs": [],
   "source": [
    "# 载入R包\n",
    "import matplotlib\n",
    "matplotlib.use('Agg')\n",
    "import matplotlib.pyplot as plt\n",
    "from matplotlib.ticker import FuncFormatter\n",
    "import matplotlib.patches as mpatches\n",
    "import matplotlib.ticker as mtick\n",
    "from matplotlib.ticker import PercentFormatter #引用包中的百分比函数\n",
    "from numpy.random import randn\n",
    "from matplotlib.pyplot import plot,savefig\n",
    "import numpy\n",
    "%matplotlib inline\n",
    "import seaborn as sb\n",
    "import pandas as pd"
   ]
  },
  {
   "cell_type": "markdown",
   "metadata": {},
   "source": [
    "## 准备可视化相关数据"
   ]
  },
  {
   "cell_type": "code",
   "execution_count": 12,
   "metadata": {},
   "outputs": [],
   "source": [
    "# 抽取可视化部分特征\n",
    "vis_features = ['AGELAST', 'SEX', 'EDUCYR', 'UNINS20', 'TOTTCH20', 'OBTOTV20', 'CVDLAY']\n",
    "visdf = df.select(vis_features)\n",
    "visdf = visdf.filter(visdf['EDUCYR']>0)\n",
    "# 对数据进行采样，并转换到Pandas中\n",
    "sampledf = visdf.sample(False, 0.2, 2022)\n",
    "vis_pd = sampledf.toPandas()"
   ]
  },
  {
   "cell_type": "code",
   "execution_count": 13,
   "metadata": {},
   "outputs": [],
   "source": [
    "# 根据绘图效果对部分列向量做对数处理\n",
    "vis_pd['logTOTTCH20'] = numpy.log(vis_pd['TOTTCH20']+1)\n",
    "vis_pd['logOBTOTV20'] = numpy.log(vis_pd['OBTOTV20']+1)"
   ]
  },
  {
   "cell_type": "code",
   "execution_count": 14,
   "metadata": {},
   "outputs": [
    {
     "data": {
      "text/html": [
       "<div>\n",
       "<style scoped>\n",
       "    .dataframe tbody tr th:only-of-type {\n",
       "        vertical-align: middle;\n",
       "    }\n",
       "\n",
       "    .dataframe tbody tr th {\n",
       "        vertical-align: top;\n",
       "    }\n",
       "\n",
       "    .dataframe thead th {\n",
       "        text-align: right;\n",
       "    }\n",
       "</style>\n",
       "<table border=\"1\" class=\"dataframe\">\n",
       "  <thead>\n",
       "    <tr style=\"text-align: right;\">\n",
       "      <th></th>\n",
       "      <th>AGELAST</th>\n",
       "      <th>SEX</th>\n",
       "      <th>EDUCYR</th>\n",
       "      <th>UNINS20</th>\n",
       "      <th>TOTTCH20</th>\n",
       "      <th>OBTOTV20</th>\n",
       "      <th>CVDLAY</th>\n",
       "      <th>logTOTTCH20</th>\n",
       "      <th>logOBTOTV20</th>\n",
       "    </tr>\n",
       "  </thead>\n",
       "  <tbody>\n",
       "    <tr>\n",
       "      <th>count</th>\n",
       "      <td>4741.000000</td>\n",
       "      <td>4741.000000</td>\n",
       "      <td>4741.000000</td>\n",
       "      <td>4741.000000</td>\n",
       "      <td>4.741000e+03</td>\n",
       "      <td>4741.000000</td>\n",
       "      <td>4741.000000</td>\n",
       "      <td>4741.000000</td>\n",
       "      <td>4741.000000</td>\n",
       "    </tr>\n",
       "    <tr>\n",
       "      <th>mean</th>\n",
       "      <td>45.179709</td>\n",
       "      <td>1.535541</td>\n",
       "      <td>12.291078</td>\n",
       "      <td>1.916473</td>\n",
       "      <td>1.285431e+04</td>\n",
       "      <td>6.003164</td>\n",
       "      <td>0.312170</td>\n",
       "      <td>6.467194</td>\n",
       "      <td>1.250117</td>\n",
       "    </tr>\n",
       "    <tr>\n",
       "      <th>std</th>\n",
       "      <td>21.337675</td>\n",
       "      <td>0.498788</td>\n",
       "      <td>3.946700</td>\n",
       "      <td>0.276706</td>\n",
       "      <td>4.315013e+04</td>\n",
       "      <td>12.120309</td>\n",
       "      <td>0.463428</td>\n",
       "      <td>3.570334</td>\n",
       "      <td>1.105941</td>\n",
       "    </tr>\n",
       "    <tr>\n",
       "      <th>min</th>\n",
       "      <td>6.000000</td>\n",
       "      <td>1.000000</td>\n",
       "      <td>1.000000</td>\n",
       "      <td>1.000000</td>\n",
       "      <td>0.000000e+00</td>\n",
       "      <td>0.000000</td>\n",
       "      <td>0.000000</td>\n",
       "      <td>0.000000</td>\n",
       "      <td>0.000000</td>\n",
       "    </tr>\n",
       "    <tr>\n",
       "      <th>25%</th>\n",
       "      <td>27.000000</td>\n",
       "      <td>1.000000</td>\n",
       "      <td>11.000000</td>\n",
       "      <td>2.000000</td>\n",
       "      <td>2.020000e+02</td>\n",
       "      <td>0.000000</td>\n",
       "      <td>0.000000</td>\n",
       "      <td>5.313206</td>\n",
       "      <td>0.000000</td>\n",
       "    </tr>\n",
       "    <tr>\n",
       "      <th>50%</th>\n",
       "      <td>45.000000</td>\n",
       "      <td>2.000000</td>\n",
       "      <td>12.000000</td>\n",
       "      <td>2.000000</td>\n",
       "      <td>1.569000e+03</td>\n",
       "      <td>2.000000</td>\n",
       "      <td>0.000000</td>\n",
       "      <td>7.358831</td>\n",
       "      <td>1.098612</td>\n",
       "    </tr>\n",
       "    <tr>\n",
       "      <th>75%</th>\n",
       "      <td>63.000000</td>\n",
       "      <td>2.000000</td>\n",
       "      <td>16.000000</td>\n",
       "      <td>2.000000</td>\n",
       "      <td>7.344000e+03</td>\n",
       "      <td>6.000000</td>\n",
       "      <td>1.000000</td>\n",
       "      <td>8.901775</td>\n",
       "      <td>1.945910</td>\n",
       "    </tr>\n",
       "    <tr>\n",
       "      <th>max</th>\n",
       "      <td>85.000000</td>\n",
       "      <td>2.000000</td>\n",
       "      <td>17.000000</td>\n",
       "      <td>2.000000</td>\n",
       "      <td>1.250572e+06</td>\n",
       "      <td>294.000000</td>\n",
       "      <td>1.000000</td>\n",
       "      <td>14.039112</td>\n",
       "      <td>5.686975</td>\n",
       "    </tr>\n",
       "  </tbody>\n",
       "</table>\n",
       "</div>"
      ],
      "text/plain": [
       "           AGELAST          SEX       EDUCYR      UNINS20      TOTTCH20  \\\n",
       "count  4741.000000  4741.000000  4741.000000  4741.000000  4.741000e+03   \n",
       "mean     45.179709     1.535541    12.291078     1.916473  1.285431e+04   \n",
       "std      21.337675     0.498788     3.946700     0.276706  4.315013e+04   \n",
       "min       6.000000     1.000000     1.000000     1.000000  0.000000e+00   \n",
       "25%      27.000000     1.000000    11.000000     2.000000  2.020000e+02   \n",
       "50%      45.000000     2.000000    12.000000     2.000000  1.569000e+03   \n",
       "75%      63.000000     2.000000    16.000000     2.000000  7.344000e+03   \n",
       "max      85.000000     2.000000    17.000000     2.000000  1.250572e+06   \n",
       "\n",
       "          OBTOTV20       CVDLAY  logTOTTCH20  logOBTOTV20  \n",
       "count  4741.000000  4741.000000  4741.000000  4741.000000  \n",
       "mean      6.003164     0.312170     6.467194     1.250117  \n",
       "std      12.120309     0.463428     3.570334     1.105941  \n",
       "min       0.000000     0.000000     0.000000     0.000000  \n",
       "25%       0.000000     0.000000     5.313206     0.000000  \n",
       "50%       2.000000     0.000000     7.358831     1.098612  \n",
       "75%       6.000000     1.000000     8.901775     1.945910  \n",
       "max     294.000000     1.000000    14.039112     5.686975  "
      ]
     },
     "execution_count": 14,
     "metadata": {},
     "output_type": "execute_result"
    }
   ],
   "source": [
    "# 数据概览\n",
    "vis_pd.describe()"
   ]
  },
  {
   "cell_type": "markdown",
   "metadata": {},
   "source": [
    "## 受访者信息"
   ]
  },
  {
   "cell_type": "code",
   "execution_count": 15,
   "metadata": {},
   "outputs": [
    {
     "data": {
      "image/png": "[encoded data removed]",
      "text/plain": [
       "<Figure size 432x288 with 1 Axes>"
      ]
     },
     "metadata": {},
     "output_type": "display_data"
    }
   ],
   "source": [
    "# 性别\n",
    "plt.pie([2202, 2539],\n",
    "        labels=['Male', 'Female'],\n",
    "        shadow=True,startangle=90,# explode=[0.05, 0.1], \n",
    "        autopct='%1.1f%%', colors=['lightgreen', 'seagreen'])\n",
    "plt.savefig('饼图-性别.png', dpi=300, bbox_inches='tight')\n",
    "plt.show()"
   ]
  },
  {
   "cell_type": "code",
   "execution_count": 16,
   "metadata": {},
   "outputs": [
    {
     "data": {
      "image/png": "[encoded data removed]",
      "text/plain": [
       "<Figure size 432x288 with 1 Axes>"
      ]
     },
     "metadata": {
      "needs_background": "light"
     },
     "output_type": "display_data"
    }
   ],
   "source": [
    "# 年龄\n",
    "def to_percent(y,position):\n",
    "    return str(100*y)+\"%\"#这里可以用round（）函数设置取几位小数\n",
    "x=vis_pd['AGELAST']\n",
    "plt.hist(x,bins=15,rwidth=0.8, color=[\"seagreen\"], weights=[1./len(x)]*len(x))#这里weights是每一个数据的权重，这里设置是1，weights是和x等维的列表或者series\n",
    "fomatter=FuncFormatter(to_percent)\n",
    "plt.gca().yaxis.set_major_formatter(fomatter)\n",
    "plt.savefig('直方图-年龄分布.png', dpi=300, bbox_inches='tight')\n",
    "plt.show()"
   ]
  },
  {
   "cell_type": "markdown",
   "metadata": {},
   "source": [
    "## 离散变量"
   ]
  },
  {
   "cell_type": "code",
   "execution_count": 17,
   "metadata": {
    "scrolled": true
   },
   "outputs": [
    {
     "data": {
      "image/png": "[encoded data removed]",
      "text/plain": [
       "<Figure size 432x288 with 1 Axes>"
      ]
     },
     "metadata": {
      "needs_background": "light"
     },
     "output_type": "display_data"
    }
   ],
   "source": [
    "# 性别\n",
    "import numpy as np\n",
    "import pandas as pd\n",
    "colors = ['#02CB74','#019858']\n",
    "labels = ['Male', 'Female']\n",
    "y1 = [1574, 1687]\n",
    "y2 = [628, 852]\n",
    "data = [y1, y2]\n",
    "\n",
    "x = range(len(labels)) #将获取的labels依次给到x轴\n",
    "\n",
    "bottom_y = np.zeros(len(labels)) #将bottom_y元素都初始化为0\n",
    "data = np.array(data) #将data放入数组中\n",
    "sums = np.sum(data, axis=0) #求数组data的和，为计算百分比做准备\n",
    "\n",
    "j = 0\n",
    " \n",
    "figure, ax = plt.subplots() #创建子图，默认设置\n",
    "for i in data: #通过函数进行绘制图像\n",
    "    y = i / sums #获取各个y值的百分比\n",
    "    plt.bar(x, y, width=0.5, color=np.array(colors)[j], bottom=bottom_y, edgecolor='gray')\n",
    "    bottom_y = y + bottom_y #实现百分比柱状条的堆积\n",
    "    plt.xticks(x, labels) #设置x轴的坐标标签\n",
    "    legend_labels = ['N-CVDLAY', 'CVDLAY']  #设置图像图例\n",
    "    color = ['#02CB74','#019858'] #给定与柱状条相同的颜色\n",
    "    #将颜色和图例标签对应起来\n",
    "    patches = [mpatches.Patch(color=color[h],label=\"{:s}\".format(legend_labels[h])) for h in range(len(legend_labels))]\n",
    "    ax = plt.gca()#绘制子图\n",
    "    box = ax.get_position()\n",
    " \n",
    "    plt.gca().yaxis.set_major_formatter(PercentFormatter(1)) #纵轴设置为百分比\n",
    " \n",
    "    #生成legend，显示标签；用bbox_to_anchor=(1, 1)设置图例的位置\n",
    "    ax.legend(handles=patches,ncol=1, bbox_to_anchor=(1, 1))  \n",
    "    figure.subplots_adjust(right=0.7)\n",
    "    j+=1 #color=np.array(colors)[j],通过数组给定柱状条相应的颜色\n",
    " \n",
    "for i in range(1, 11, 1):#绘制平行于x轴的虚线\n",
    "    plt.axhline(y=i/10, linestyle='dashed', color='black', linewidth=0.5)\n",
    " \n",
    "labels = ax.get_xticklabels() + ax.get_yticklabels()\n",
    " \n",
    "ax.set_title('',fontsize=13)\n",
    "ax.set_ylabel('',fontsize=13)\n",
    "ax.set_xlabel('',fontsize=13)\n",
    "#plt.rc('font', size=16)\n",
    "plt.savefig('百分柱状图-性别vsDLAY.png', dpi=300, bbox_inches='tight')\n",
    "plt.show()"
   ]
  },
  {
   "cell_type": "code",
   "execution_count": 18,
   "metadata": {},
   "outputs": [
    {
     "data": {
      "image/png": "[encoded data removed]",
      "text/plain": [
       "<Figure size 432x288 with 1 Axes>"
      ]
     },
     "metadata": {
      "needs_background": "light"
     },
     "output_type": "display_data"
    }
   ],
   "source": [
    "# 是否投保\n",
    "colors = ['#02CB74','#019858']\n",
    "labels = ['InsCovered', 'N-InsCovered']\n",
    "y1 = [2923, 1422]\n",
    "y2 = [338, 58]\n",
    "data = [y1, y2]\n",
    "\n",
    "x = range(len(labels)) #将获取的labels依次给到x轴\n",
    "\n",
    "bottom_y = np.zeros(len(labels)) #将bottom_y元素都初始化为0\n",
    "data = np.array(data) #将data放入数组中\n",
    "sums = np.sum(data, axis=0) #求数组data的和，为计算百分比做准备\n",
    "\n",
    "j = 0\n",
    " \n",
    "figure, ax = plt.subplots() #创建子图，默认设置\n",
    "for i in data: #通过函数进行绘制图像\n",
    "    y = i / sums #获取各个y值的百分比\n",
    "    plt.bar(x, y, width=0.5, color=np.array(colors)[j], bottom=bottom_y, edgecolor='gray')\n",
    "    bottom_y = y + bottom_y #实现百分比柱状条的堆积\n",
    "    plt.xticks(x, labels) #设置x轴的坐标标签\n",
    "    legend_labels = ['N-CVDLAY', 'CVDLAY']  #设置图像图例\n",
    "    color = ['#02CB74','#019858'] #给定与柱状条相同的颜色\n",
    "    #将颜色和图例标签对应起来\n",
    "    patches = [mpatches.Patch(color=color[h],label=\"{:s}\".format(legend_labels[h])) for h in range(len(legend_labels))]\n",
    "    ax = plt.gca()#绘制子图\n",
    "    box = ax.get_position()\n",
    " \n",
    "    plt.gca().yaxis.set_major_formatter(PercentFormatter(1)) #纵轴设置为百分比\n",
    " \n",
    "    #生成legend，显示标签；用bbox_to_anchor=(1, 1)设置图例的位置\n",
    "    ax.legend(handles=patches,ncol=1, bbox_to_anchor=(1, 1))  \n",
    "    figure.subplots_adjust(right=0.7)\n",
    "    j+=1 #color=np.array(colors)[j],通过数组给定柱状条相应的颜色\n",
    " \n",
    "for i in range(1, 11, 1):#绘制平行于x轴的虚线\n",
    "    plt.axhline(y=i/10, linestyle='dashed', color='black', linewidth=0.5)\n",
    " \n",
    "labels = ax.get_xticklabels() + ax.get_yticklabels()\n",
    " \n",
    "ax.set_title('',fontsize=13)\n",
    "ax.set_ylabel('values',fontsize=13)\n",
    "ax.set_xlabel('columns',fontsize=13)\n",
    "#plt.rc('font', size=16)\n",
    "plt.savefig('百分柱状图-保险覆盖vsDLAY.png', dpi=300, bbox_inches='tight')\n",
    "plt.show()"
   ]
  },
  {
   "cell_type": "markdown",
   "metadata": {},
   "source": [
    "## 连续变量"
   ]
  },
  {
   "cell_type": "code",
   "execution_count": 19,
   "metadata": {},
   "outputs": [
    {
     "data": {
      "image/png": "[encoded data removed]",
      "text/plain": [
       "<Figure size 432x288 with 1 Axes>"
      ]
     },
     "metadata": {
      "needs_background": "light"
     },
     "output_type": "display_data"
    }
   ],
   "source": [
    "# 教育年限\n",
    "edudf = vis_pd[['EDUCYR', 'CVDLAY']]\n",
    "edudf.boxplot(by='CVDLAY')\n",
    "plt.title('')\n",
    "plt.rc('font', size=12)\n",
    "plt.savefig('箱线图-教育年限vsDLAY.png', dpi=300, bbox_inches='tight') # 解决图片不清晰，不完整的问题\n",
    "plt.show()"
   ]
  },
  {
   "cell_type": "code",
   "execution_count": 20,
   "metadata": {},
   "outputs": [
    {
     "data": {
      "image/png": "[encoded data removed]",
      "text/plain": [
       "<Figure size 432x288 with 1 Axes>"
      ]
     },
     "metadata": {
      "needs_background": "light"
     },
     "output_type": "display_data"
    }
   ],
   "source": [
    "# log医疗费用\n",
    "chdf = vis_pd[['logTOTTCH20', 'CVDLAY']]\n",
    "chdf.boxplot(by='CVDLAY')\n",
    "plt.title('')\n",
    "plt.rc('font', size=12)\n",
    "plt.savefig('箱线图-log医疗费用vsDLAY.png', dpi=300, bbox_inches='tight') # 解决图片不清晰，不完整的问题\n",
    "plt.show()"
   ]
  },
  {
   "cell_type": "code",
   "execution_count": 21,
   "metadata": {},
   "outputs": [
    {
     "data": {
      "image/png": "[encoded data removed]",
      "text/plain": [
       "<Figure size 432x288 with 1 Axes>"
      ]
     },
     "metadata": {
      "needs_background": "light"
     },
     "output_type": "display_data"
    }
   ],
   "source": [
    "# log医院访问次数\n",
    "obdf = vis_pd[['logOBTOTV20', 'CVDLAY']]\n",
    "obdf.boxplot(by='CVDLAY')\n",
    "plt.title('')\n",
    "plt.rc('font', size=12)\n",
    "plt.savefig('箱线图-log医院访问次数vsDLAY.png', dpi=300, bbox_inches='tight')\n",
    "plt.show()"
   ]
  },
  {
   "cell_type": "markdown",
   "metadata": {},
   "source": [
    "# 第三部分 全变量建模"
   ]
  },
  {
   "cell_type": "code",
   "execution_count": 19,
   "metadata": {},
   "outputs": [],
   "source": [
    "class DataFrameProcessor:\n",
    "    def __init__(self, file_path):\n",
    "        try:\n",
    "            self.df = pd.read_csv(file_path)\n",
    "        except Exception as e:\n",
    "            print(f\"Error loading data: {e}\")\n",
    "\n",
    "    def select_features(self):\n",
    "        #用于分开数字变量和分类变量，并删除CVCLAY列防止标签泄露\n",
    "        try:\n",
    "            cat_features = [item[0] for item in self.df.dtypes.items() if item[1]=='object']\n",
    "            num_features = [item[0] for item in self.df.dtypes.items() if item[1]!='object']\n",
    "            num_features.remove('CVDLAY')\n",
    "            return cat_features, num_features\n",
    "        except Exception as e:\n",
    "            print(f\"Error selecting features: {e}\")\n",
    "            return [], []  # Return empty lists in case of an exception\n"
   ]
  },
  {
   "cell_type": "code",
   "execution_count": 7,
   "metadata": {},
   "outputs": [],
   "source": [
    "processor = DataFrameProcessor(\"output.csv\")"
   ]
  },
  {
   "cell_type": "code",
   "execution_count": 11,
   "metadata": {},
   "outputs": [],
   "source": [
    "cat_features, num_features = processor.select_features()"
   ]
  },
  {
   "cell_type": "code",
   "execution_count": 12,
   "metadata": {},
   "outputs": [],
   "source": [
    "from pyspark.ml import Pipeline\n",
    "from pyspark.ml.feature import StringIndexer, OneHotEncoder, VectorAssembler"
   ]
  },
  {
   "cell_type": "code",
   "execution_count": 13,
   "metadata": {},
   "outputs": [],
   "source": [
    "stages = []\n",
    "for col in cat_features:\n",
    "    # 字符串转成索引\n",
    "    string_index = StringIndexer(inputCol = col, outputCol = col + 'Index')\n",
    "    # 转换为OneHot编码\n",
    "    encoder = OneHotEncoder(inputCols=[string_index.getOutputCol()], outputCols=[col + \"_one_hot\"])\n",
    "    # 将每个字段的转换方式 放到stages中\n",
    "    stages += [string_index, encoder]"
   ]
  },
  {
   "cell_type": "code",
   "execution_count": 14,
   "metadata": {},
   "outputs": [],
   "source": [
    "# 将CVDLAY转换为索引\n",
    "label_string_index = StringIndexer(inputCol = 'CVDLAY', outputCol = 'label')\n",
    "# 添加到stages中\n",
    "stages += [label_string_index]"
   ]
  },
  {
   "cell_type": "code",
   "execution_count": 15,
   "metadata": {},
   "outputs": [],
   "source": [
    "# 类别变量 + 数值变量\n",
    "assembler_cols = [c + \"_one_hot\" for c in cat_features] + num_features\n",
    "assembler = VectorAssembler(inputCols=assembler_cols, outputCol=\"features\")\n",
    "stages += [assembler]"
   ]
  },
  {
   "cell_type": "code",
   "execution_count": 16,
   "metadata": {},
   "outputs": [],
   "source": [
    "# 使用pipeline完成数据处理\n",
    "pipeline = Pipeline(stages=stages)\n",
    "pipeline_model = pipeline.fit(df)\n",
    "df = pipeline_model.transform(df)\n",
    "selected_cols = [\"label\", \"features\"] + cols\n",
    "df = df.select(selected_cols)"
   ]
  },
  {
   "cell_type": "code",
   "execution_count": 29,
   "metadata": {},
   "outputs": [
    {
     "data": {
      "text/html": [
       "<div>\n",
       "<style scoped>\n",
       "    .dataframe tbody tr th:only-of-type {\n",
       "        vertical-align: middle;\n",
       "    }\n",
       "\n",
       "    .dataframe tbody tr th {\n",
       "        vertical-align: top;\n",
       "    }\n",
       "\n",
       "    .dataframe thead th {\n",
       "        text-align: right;\n",
       "    }\n",
       "</style>\n",
       "<table border=\"1\" class=\"dataframe\">\n",
       "  <thead>\n",
       "    <tr style=\"text-align: right;\">\n",
       "      <th></th>\n",
       "      <th>label</th>\n",
       "      <th>features</th>\n",
       "      <th>_c0</th>\n",
       "      <th>PANEL</th>\n",
       "      <th>FAMID20</th>\n",
       "      <th>FAMIDYR</th>\n",
       "      <th>CPSFAMID</th>\n",
       "      <th>RULETR20</th>\n",
       "      <th>RUSIZE20</th>\n",
       "      <th>RUCLAS20</th>\n",
       "      <th>...</th>\n",
       "      <th>RXVA20</th>\n",
       "      <th>RXTRI20</th>\n",
       "      <th>RXOFD20</th>\n",
       "      <th>RXSTL20</th>\n",
       "      <th>RXWCP20</th>\n",
       "      <th>RXOSR20</th>\n",
       "      <th>RXPTR20</th>\n",
       "      <th>RXOTH20</th>\n",
       "      <th>PERWT20F</th>\n",
       "      <th>CVDLAY</th>\n",
       "    </tr>\n",
       "  </thead>\n",
       "  <tbody>\n",
       "    <tr>\n",
       "      <th>0</th>\n",
       "      <td>0.0</td>\n",
       "      <td>(1.0, 0.0, 0.0, 0.0, 0.0, 0.0, 1.0, 0.0, 0.0, ...</td>\n",
       "      <td>1</td>\n",
       "      <td>23</td>\n",
       "      <td>A</td>\n",
       "      <td>A</td>\n",
       "      <td>A</td>\n",
       "      <td>A</td>\n",
       "      <td>2</td>\n",
       "      <td>1</td>\n",
       "      <td>...</td>\n",
       "      <td>0</td>\n",
       "      <td>0</td>\n",
       "      <td>0</td>\n",
       "      <td>0</td>\n",
       "      <td>0</td>\n",
       "      <td>0</td>\n",
       "      <td>0</td>\n",
       "      <td>0</td>\n",
       "      <td>8418.417067</td>\n",
       "      <td>0</td>\n",
       "    </tr>\n",
       "    <tr>\n",
       "      <th>1</th>\n",
       "      <td>0.0</td>\n",
       "      <td>(1.0, 0.0, 0.0, 0.0, 0.0, 0.0, 1.0, 0.0, 0.0, ...</td>\n",
       "      <td>2</td>\n",
       "      <td>23</td>\n",
       "      <td>A</td>\n",
       "      <td>A</td>\n",
       "      <td>A</td>\n",
       "      <td>A</td>\n",
       "      <td>2</td>\n",
       "      <td>1</td>\n",
       "      <td>...</td>\n",
       "      <td>0</td>\n",
       "      <td>0</td>\n",
       "      <td>0</td>\n",
       "      <td>0</td>\n",
       "      <td>0</td>\n",
       "      <td>0</td>\n",
       "      <td>0</td>\n",
       "      <td>0</td>\n",
       "      <td>5199.931866</td>\n",
       "      <td>0</td>\n",
       "    </tr>\n",
       "    <tr>\n",
       "      <th>2</th>\n",
       "      <td>0.0</td>\n",
       "      <td>(1.0, 0.0, 0.0, 0.0, 0.0, 0.0, 1.0, 0.0, 0.0, ...</td>\n",
       "      <td>3</td>\n",
       "      <td>23</td>\n",
       "      <td>A</td>\n",
       "      <td>A</td>\n",
       "      <td>A</td>\n",
       "      <td>A</td>\n",
       "      <td>2</td>\n",
       "      <td>1</td>\n",
       "      <td>...</td>\n",
       "      <td>0</td>\n",
       "      <td>0</td>\n",
       "      <td>0</td>\n",
       "      <td>0</td>\n",
       "      <td>0</td>\n",
       "      <td>0</td>\n",
       "      <td>0</td>\n",
       "      <td>0</td>\n",
       "      <td>2139.840017</td>\n",
       "      <td>0</td>\n",
       "    </tr>\n",
       "    <tr>\n",
       "      <th>3</th>\n",
       "      <td>0.0</td>\n",
       "      <td>(0.0, 1.0, 0.0, 0.0, 0.0, 0.0, 0.0, 1.0, 0.0, ...</td>\n",
       "      <td>4</td>\n",
       "      <td>23</td>\n",
       "      <td>B</td>\n",
       "      <td>B</td>\n",
       "      <td>B</td>\n",
       "      <td>B</td>\n",
       "      <td>1</td>\n",
       "      <td>1</td>\n",
       "      <td>...</td>\n",
       "      <td>0</td>\n",
       "      <td>0</td>\n",
       "      <td>0</td>\n",
       "      <td>0</td>\n",
       "      <td>0</td>\n",
       "      <td>0</td>\n",
       "      <td>0</td>\n",
       "      <td>0</td>\n",
       "      <td>2216.008686</td>\n",
       "      <td>0</td>\n",
       "    </tr>\n",
       "    <tr>\n",
       "      <th>4</th>\n",
       "      <td>0.0</td>\n",
       "      <td>(1.0, 0.0, 0.0, 0.0, 0.0, 0.0, 1.0, 0.0, 0.0, ...</td>\n",
       "      <td>5</td>\n",
       "      <td>23</td>\n",
       "      <td>A</td>\n",
       "      <td>A</td>\n",
       "      <td>A</td>\n",
       "      <td>A</td>\n",
       "      <td>2</td>\n",
       "      <td>1</td>\n",
       "      <td>...</td>\n",
       "      <td>0</td>\n",
       "      <td>0</td>\n",
       "      <td>0</td>\n",
       "      <td>0</td>\n",
       "      <td>0</td>\n",
       "      <td>0</td>\n",
       "      <td>0</td>\n",
       "      <td>0</td>\n",
       "      <td>4157.285889</td>\n",
       "      <td>0</td>\n",
       "    </tr>\n",
       "    <tr>\n",
       "      <th>5</th>\n",
       "      <td>0.0</td>\n",
       "      <td>(1.0, 0.0, 0.0, 0.0, 0.0, 0.0, 1.0, 0.0, 0.0, ...</td>\n",
       "      <td>6</td>\n",
       "      <td>23</td>\n",
       "      <td>A</td>\n",
       "      <td>A</td>\n",
       "      <td>A</td>\n",
       "      <td>A</td>\n",
       "      <td>1</td>\n",
       "      <td>1</td>\n",
       "      <td>...</td>\n",
       "      <td>0</td>\n",
       "      <td>0</td>\n",
       "      <td>0</td>\n",
       "      <td>0</td>\n",
       "      <td>0</td>\n",
       "      <td>0</td>\n",
       "      <td>0</td>\n",
       "      <td>0</td>\n",
       "      <td>1960.941227</td>\n",
       "      <td>0</td>\n",
       "    </tr>\n",
       "    <tr>\n",
       "      <th>6</th>\n",
       "      <td>0.0</td>\n",
       "      <td>(1.0, 0.0, 0.0, 0.0, 0.0, 0.0, 1.0, 0.0, 0.0, ...</td>\n",
       "      <td>7</td>\n",
       "      <td>23</td>\n",
       "      <td>A</td>\n",
       "      <td>A</td>\n",
       "      <td>A</td>\n",
       "      <td>A</td>\n",
       "      <td>1</td>\n",
       "      <td>1</td>\n",
       "      <td>...</td>\n",
       "      <td>0</td>\n",
       "      <td>0</td>\n",
       "      <td>0</td>\n",
       "      <td>0</td>\n",
       "      <td>0</td>\n",
       "      <td>0</td>\n",
       "      <td>0</td>\n",
       "      <td>0</td>\n",
       "      <td>8040.129847</td>\n",
       "      <td>0</td>\n",
       "    </tr>\n",
       "    <tr>\n",
       "      <th>7</th>\n",
       "      <td>0.0</td>\n",
       "      <td>(1.0, 0.0, 0.0, 0.0, 0.0, 0.0, 1.0, 0.0, 0.0, ...</td>\n",
       "      <td>8</td>\n",
       "      <td>23</td>\n",
       "      <td>A</td>\n",
       "      <td>A</td>\n",
       "      <td>A</td>\n",
       "      <td>A</td>\n",
       "      <td>3</td>\n",
       "      <td>1</td>\n",
       "      <td>...</td>\n",
       "      <td>0</td>\n",
       "      <td>0</td>\n",
       "      <td>0</td>\n",
       "      <td>0</td>\n",
       "      <td>0</td>\n",
       "      <td>0</td>\n",
       "      <td>0</td>\n",
       "      <td>0</td>\n",
       "      <td>2605.042054</td>\n",
       "      <td>0</td>\n",
       "    </tr>\n",
       "    <tr>\n",
       "      <th>8</th>\n",
       "      <td>0.0</td>\n",
       "      <td>(1.0, 0.0, 0.0, 0.0, 0.0, 0.0, 1.0, 0.0, 0.0, ...</td>\n",
       "      <td>9</td>\n",
       "      <td>23</td>\n",
       "      <td>A</td>\n",
       "      <td>A</td>\n",
       "      <td>A</td>\n",
       "      <td>A</td>\n",
       "      <td>3</td>\n",
       "      <td>1</td>\n",
       "      <td>...</td>\n",
       "      <td>0</td>\n",
       "      <td>0</td>\n",
       "      <td>0</td>\n",
       "      <td>0</td>\n",
       "      <td>0</td>\n",
       "      <td>0</td>\n",
       "      <td>0</td>\n",
       "      <td>0</td>\n",
       "      <td>7893.029599</td>\n",
       "      <td>0</td>\n",
       "    </tr>\n",
       "    <tr>\n",
       "      <th>9</th>\n",
       "      <td>0.0</td>\n",
       "      <td>(1.0, 0.0, 0.0, 0.0, 0.0, 0.0, 1.0, 0.0, 0.0, ...</td>\n",
       "      <td>10</td>\n",
       "      <td>23</td>\n",
       "      <td>A</td>\n",
       "      <td>A</td>\n",
       "      <td>A</td>\n",
       "      <td>A</td>\n",
       "      <td>3</td>\n",
       "      <td>1</td>\n",
       "      <td>...</td>\n",
       "      <td>0</td>\n",
       "      <td>0</td>\n",
       "      <td>0</td>\n",
       "      <td>0</td>\n",
       "      <td>0</td>\n",
       "      <td>0</td>\n",
       "      <td>0</td>\n",
       "      <td>0</td>\n",
       "      <td>5508.081668</td>\n",
       "      <td>0</td>\n",
       "    </tr>\n",
       "    <tr>\n",
       "      <th>10</th>\n",
       "      <td>0.0</td>\n",
       "      <td>(1.0, 0.0, 0.0, 0.0, 0.0, 0.0, 1.0, 0.0, 0.0, ...</td>\n",
       "      <td>11</td>\n",
       "      <td>23</td>\n",
       "      <td>A</td>\n",
       "      <td>A</td>\n",
       "      <td>A</td>\n",
       "      <td>A</td>\n",
       "      <td>2</td>\n",
       "      <td>1</td>\n",
       "      <td>...</td>\n",
       "      <td>0</td>\n",
       "      <td>0</td>\n",
       "      <td>0</td>\n",
       "      <td>0</td>\n",
       "      <td>0</td>\n",
       "      <td>0</td>\n",
       "      <td>0</td>\n",
       "      <td>0</td>\n",
       "      <td>17061.700877</td>\n",
       "      <td>0</td>\n",
       "    </tr>\n",
       "    <tr>\n",
       "      <th>11</th>\n",
       "      <td>0.0</td>\n",
       "      <td>(0.0, 1.0, 0.0, 0.0, 0.0, 0.0, 0.0, 1.0, 0.0, ...</td>\n",
       "      <td>12</td>\n",
       "      <td>23</td>\n",
       "      <td>B</td>\n",
       "      <td>B</td>\n",
       "      <td>B</td>\n",
       "      <td>B</td>\n",
       "      <td>2</td>\n",
       "      <td>1</td>\n",
       "      <td>...</td>\n",
       "      <td>0</td>\n",
       "      <td>0</td>\n",
       "      <td>0</td>\n",
       "      <td>0</td>\n",
       "      <td>0</td>\n",
       "      <td>0</td>\n",
       "      <td>0</td>\n",
       "      <td>0</td>\n",
       "      <td>1732.411246</td>\n",
       "      <td>0</td>\n",
       "    </tr>\n",
       "    <tr>\n",
       "      <th>12</th>\n",
       "      <td>1.0</td>\n",
       "      <td>(0.0, 0.0, 1.0, 0.0, 0.0, 0.0, 0.0, 0.0, 1.0, ...</td>\n",
       "      <td>13</td>\n",
       "      <td>23</td>\n",
       "      <td>C</td>\n",
       "      <td>C</td>\n",
       "      <td>C</td>\n",
       "      <td>C</td>\n",
       "      <td>1</td>\n",
       "      <td>1</td>\n",
       "      <td>...</td>\n",
       "      <td>0</td>\n",
       "      <td>0</td>\n",
       "      <td>0</td>\n",
       "      <td>0</td>\n",
       "      <td>0</td>\n",
       "      <td>0</td>\n",
       "      <td>43</td>\n",
       "      <td>0</td>\n",
       "      <td>9836.066306</td>\n",
       "      <td>1</td>\n",
       "    </tr>\n",
       "    <tr>\n",
       "      <th>13</th>\n",
       "      <td>0.0</td>\n",
       "      <td>(0.0, 1.0, 0.0, 0.0, 0.0, 0.0, 0.0, 1.0, 0.0, ...</td>\n",
       "      <td>14</td>\n",
       "      <td>23</td>\n",
       "      <td>B</td>\n",
       "      <td>B</td>\n",
       "      <td>B</td>\n",
       "      <td>B</td>\n",
       "      <td>2</td>\n",
       "      <td>1</td>\n",
       "      <td>...</td>\n",
       "      <td>0</td>\n",
       "      <td>0</td>\n",
       "      <td>0</td>\n",
       "      <td>0</td>\n",
       "      <td>0</td>\n",
       "      <td>0</td>\n",
       "      <td>292</td>\n",
       "      <td>0</td>\n",
       "      <td>6031.766752</td>\n",
       "      <td>0</td>\n",
       "    </tr>\n",
       "    <tr>\n",
       "      <th>14</th>\n",
       "      <td>0.0</td>\n",
       "      <td>(1.0, 0.0, 0.0, 0.0, 0.0, 0.0, 1.0, 0.0, 0.0, ...</td>\n",
       "      <td>15</td>\n",
       "      <td>23</td>\n",
       "      <td>A</td>\n",
       "      <td>A</td>\n",
       "      <td>A</td>\n",
       "      <td>A</td>\n",
       "      <td>2</td>\n",
       "      <td>1</td>\n",
       "      <td>...</td>\n",
       "      <td>0</td>\n",
       "      <td>0</td>\n",
       "      <td>0</td>\n",
       "      <td>0</td>\n",
       "      <td>0</td>\n",
       "      <td>0</td>\n",
       "      <td>0</td>\n",
       "      <td>0</td>\n",
       "      <td>13176.221021</td>\n",
       "      <td>0</td>\n",
       "    </tr>\n",
       "    <tr>\n",
       "      <th>15</th>\n",
       "      <td>0.0</td>\n",
       "      <td>(1.0, 0.0, 0.0, 0.0, 0.0, 0.0, 1.0, 0.0, 0.0, ...</td>\n",
       "      <td>16</td>\n",
       "      <td>23</td>\n",
       "      <td>A</td>\n",
       "      <td>A</td>\n",
       "      <td>A</td>\n",
       "      <td>A</td>\n",
       "      <td>4</td>\n",
       "      <td>1</td>\n",
       "      <td>...</td>\n",
       "      <td>0</td>\n",
       "      <td>0</td>\n",
       "      <td>0</td>\n",
       "      <td>0</td>\n",
       "      <td>0</td>\n",
       "      <td>0</td>\n",
       "      <td>0</td>\n",
       "      <td>0</td>\n",
       "      <td>14213.367872</td>\n",
       "      <td>0</td>\n",
       "    </tr>\n",
       "    <tr>\n",
       "      <th>16</th>\n",
       "      <td>0.0</td>\n",
       "      <td>(1.0, 0.0, 0.0, 0.0, 0.0, 0.0, 1.0, 0.0, 0.0, ...</td>\n",
       "      <td>17</td>\n",
       "      <td>23</td>\n",
       "      <td>A</td>\n",
       "      <td>A</td>\n",
       "      <td>A</td>\n",
       "      <td>A</td>\n",
       "      <td>4</td>\n",
       "      <td>1</td>\n",
       "      <td>...</td>\n",
       "      <td>0</td>\n",
       "      <td>0</td>\n",
       "      <td>0</td>\n",
       "      <td>0</td>\n",
       "      <td>0</td>\n",
       "      <td>0</td>\n",
       "      <td>27</td>\n",
       "      <td>0</td>\n",
       "      <td>8129.136786</td>\n",
       "      <td>0</td>\n",
       "    </tr>\n",
       "    <tr>\n",
       "      <th>17</th>\n",
       "      <td>0.0</td>\n",
       "      <td>(1.0, 0.0, 0.0, 0.0, 0.0, 0.0, 1.0, 0.0, 0.0, ...</td>\n",
       "      <td>18</td>\n",
       "      <td>23</td>\n",
       "      <td>A</td>\n",
       "      <td>A</td>\n",
       "      <td>A</td>\n",
       "      <td>A</td>\n",
       "      <td>4</td>\n",
       "      <td>1</td>\n",
       "      <td>...</td>\n",
       "      <td>0</td>\n",
       "      <td>0</td>\n",
       "      <td>0</td>\n",
       "      <td>0</td>\n",
       "      <td>0</td>\n",
       "      <td>0</td>\n",
       "      <td>861</td>\n",
       "      <td>0</td>\n",
       "      <td>4054.825730</td>\n",
       "      <td>0</td>\n",
       "    </tr>\n",
       "    <tr>\n",
       "      <th>18</th>\n",
       "      <td>0.0</td>\n",
       "      <td>(1.0, 0.0, 0.0, 0.0, 0.0, 0.0, 1.0, 0.0, 0.0, ...</td>\n",
       "      <td>19</td>\n",
       "      <td>23</td>\n",
       "      <td>A</td>\n",
       "      <td>A</td>\n",
       "      <td>A</td>\n",
       "      <td>A</td>\n",
       "      <td>4</td>\n",
       "      <td>1</td>\n",
       "      <td>...</td>\n",
       "      <td>0</td>\n",
       "      <td>0</td>\n",
       "      <td>0</td>\n",
       "      <td>0</td>\n",
       "      <td>0</td>\n",
       "      <td>0</td>\n",
       "      <td>0</td>\n",
       "      <td>0</td>\n",
       "      <td>2947.908620</td>\n",
       "      <td>0</td>\n",
       "    </tr>\n",
       "    <tr>\n",
       "      <th>19</th>\n",
       "      <td>0.0</td>\n",
       "      <td>(1.0, 0.0, 0.0, 0.0, 0.0, 0.0, 1.0, 0.0, 0.0, ...</td>\n",
       "      <td>20</td>\n",
       "      <td>23</td>\n",
       "      <td>A</td>\n",
       "      <td>A</td>\n",
       "      <td>A</td>\n",
       "      <td>A</td>\n",
       "      <td>4</td>\n",
       "      <td>1</td>\n",
       "      <td>...</td>\n",
       "      <td>0</td>\n",
       "      <td>0</td>\n",
       "      <td>0</td>\n",
       "      <td>0</td>\n",
       "      <td>0</td>\n",
       "      <td>0</td>\n",
       "      <td>0</td>\n",
       "      <td>0</td>\n",
       "      <td>7087.504819</td>\n",
       "      <td>0</td>\n",
       "    </tr>\n",
       "  </tbody>\n",
       "</table>\n",
       "<p>20 rows × 846 columns</p>\n",
       "</div>"
      ],
      "text/plain": [
       "    label                                           features  _c0  PANEL  \\\n",
       "0     0.0  (1.0, 0.0, 0.0, 0.0, 0.0, 0.0, 1.0, 0.0, 0.0, ...    1     23   \n",
       "1     0.0  (1.0, 0.0, 0.0, 0.0, 0.0, 0.0, 1.0, 0.0, 0.0, ...    2     23   \n",
       "2     0.0  (1.0, 0.0, 0.0, 0.0, 0.0, 0.0, 1.0, 0.0, 0.0, ...    3     23   \n",
       "3     0.0  (0.0, 1.0, 0.0, 0.0, 0.0, 0.0, 0.0, 1.0, 0.0, ...    4     23   \n",
       "4     0.0  (1.0, 0.0, 0.0, 0.0, 0.0, 0.0, 1.0, 0.0, 0.0, ...    5     23   \n",
       "5     0.0  (1.0, 0.0, 0.0, 0.0, 0.0, 0.0, 1.0, 0.0, 0.0, ...    6     23   \n",
       "6     0.0  (1.0, 0.0, 0.0, 0.0, 0.0, 0.0, 1.0, 0.0, 0.0, ...    7     23   \n",
       "7     0.0  (1.0, 0.0, 0.0, 0.0, 0.0, 0.0, 1.0, 0.0, 0.0, ...    8     23   \n",
       "8     0.0  (1.0, 0.0, 0.0, 0.0, 0.0, 0.0, 1.0, 0.0, 0.0, ...    9     23   \n",
       "9     0.0  (1.0, 0.0, 0.0, 0.0, 0.0, 0.0, 1.0, 0.0, 0.0, ...   10     23   \n",
       "10    0.0  (1.0, 0.0, 0.0, 0.0, 0.0, 0.0, 1.0, 0.0, 0.0, ...   11     23   \n",
       "11    0.0  (0.0, 1.0, 0.0, 0.0, 0.0, 0.0, 0.0, 1.0, 0.0, ...   12     23   \n",
       "12    1.0  (0.0, 0.0, 1.0, 0.0, 0.0, 0.0, 0.0, 0.0, 1.0, ...   13     23   \n",
       "13    0.0  (0.0, 1.0, 0.0, 0.0, 0.0, 0.0, 0.0, 1.0, 0.0, ...   14     23   \n",
       "14    0.0  (1.0, 0.0, 0.0, 0.0, 0.0, 0.0, 1.0, 0.0, 0.0, ...   15     23   \n",
       "15    0.0  (1.0, 0.0, 0.0, 0.0, 0.0, 0.0, 1.0, 0.0, 0.0, ...   16     23   \n",
       "16    0.0  (1.0, 0.0, 0.0, 0.0, 0.0, 0.0, 1.0, 0.0, 0.0, ...   17     23   \n",
       "17    0.0  (1.0, 0.0, 0.0, 0.0, 0.0, 0.0, 1.0, 0.0, 0.0, ...   18     23   \n",
       "18    0.0  (1.0, 0.0, 0.0, 0.0, 0.0, 0.0, 1.0, 0.0, 0.0, ...   19     23   \n",
       "19    0.0  (1.0, 0.0, 0.0, 0.0, 0.0, 0.0, 1.0, 0.0, 0.0, ...   20     23   \n",
       "\n",
       "   FAMID20 FAMIDYR CPSFAMID RULETR20  RUSIZE20  RUCLAS20  ...  RXVA20  \\\n",
       "0        A       A        A        A         2         1  ...       0   \n",
       "1        A       A        A        A         2         1  ...       0   \n",
       "2        A       A        A        A         2         1  ...       0   \n",
       "3        B       B        B        B         1         1  ...       0   \n",
       "4        A       A        A        A         2         1  ...       0   \n",
       "5        A       A        A        A         1         1  ...       0   \n",
       "6        A       A        A        A         1         1  ...       0   \n",
       "7        A       A        A        A         3         1  ...       0   \n",
       "8        A       A        A        A         3         1  ...       0   \n",
       "9        A       A        A        A         3         1  ...       0   \n",
       "10       A       A        A        A         2         1  ...       0   \n",
       "11       B       B        B        B         2         1  ...       0   \n",
       "12       C       C        C        C         1         1  ...       0   \n",
       "13       B       B        B        B         2         1  ...       0   \n",
       "14       A       A        A        A         2         1  ...       0   \n",
       "15       A       A        A        A         4         1  ...       0   \n",
       "16       A       A        A        A         4         1  ...       0   \n",
       "17       A       A        A        A         4         1  ...       0   \n",
       "18       A       A        A        A         4         1  ...       0   \n",
       "19       A       A        A        A         4         1  ...       0   \n",
       "\n",
       "    RXTRI20  RXOFD20  RXSTL20  RXWCP20  RXOSR20  RXPTR20  RXOTH20  \\\n",
       "0         0        0        0        0        0        0        0   \n",
       "1         0        0        0        0        0        0        0   \n",
       "2         0        0        0        0        0        0        0   \n",
       "3         0        0        0        0        0        0        0   \n",
       "4         0        0        0        0        0        0        0   \n",
       "5         0        0        0        0        0        0        0   \n",
       "6         0        0        0        0        0        0        0   \n",
       "7         0        0        0        0        0        0        0   \n",
       "8         0        0        0        0        0        0        0   \n",
       "9         0        0        0        0        0        0        0   \n",
       "10        0        0        0        0        0        0        0   \n",
       "11        0        0        0        0        0        0        0   \n",
       "12        0        0        0        0        0       43        0   \n",
       "13        0        0        0        0        0      292        0   \n",
       "14        0        0        0        0        0        0        0   \n",
       "15        0        0        0        0        0        0        0   \n",
       "16        0        0        0        0        0       27        0   \n",
       "17        0        0        0        0        0      861        0   \n",
       "18        0        0        0        0        0        0        0   \n",
       "19        0        0        0        0        0        0        0   \n",
       "\n",
       "        PERWT20F  CVDLAY  \n",
       "0    8418.417067       0  \n",
       "1    5199.931866       0  \n",
       "2    2139.840017       0  \n",
       "3    2216.008686       0  \n",
       "4    4157.285889       0  \n",
       "5    1960.941227       0  \n",
       "6    8040.129847       0  \n",
       "7    2605.042054       0  \n",
       "8    7893.029599       0  \n",
       "9    5508.081668       0  \n",
       "10  17061.700877       0  \n",
       "11   1732.411246       0  \n",
       "12   9836.066306       1  \n",
       "13   6031.766752       0  \n",
       "14  13176.221021       0  \n",
       "15  14213.367872       0  \n",
       "16   8129.136786       0  \n",
       "17   4054.825730       0  \n",
       "18   2947.908620       0  \n",
       "19   7087.504819       0  \n",
       "\n",
       "[20 rows x 846 columns]"
      ]
     },
     "execution_count": 29,
     "metadata": {},
     "output_type": "execute_result"
    }
   ],
   "source": [
    "import pandas as pd\n",
    "pd.DataFrame(df.take(20), columns = df.columns)"
   ]
  },
  {
   "cell_type": "code",
   "execution_count": 17,
   "metadata": {
    "scrolled": true
   },
   "outputs": [
    {
     "name": "stdout",
     "output_type": "stream",
     "text": [
      "22008\n",
      "5435\n"
     ]
    }
   ],
   "source": [
    "train, test = df.randomSplit([0.8, 0.2], seed=2021)\n",
    "print(train.count())\n",
    "print(test.count())"
   ]
  },
  {
   "cell_type": "markdown",
   "metadata": {},
   "source": [
    "## 逻辑回归"
   ]
  },
  {
   "cell_type": "code",
   "execution_count": 17,
   "metadata": {},
   "outputs": [],
   "source": [
    "from pyspark.ml.classification import LogisticRegression"
   ]
  },
  {
   "cell_type": "code",
   "execution_count": 18,
   "metadata": {},
   "outputs": [
    {
     "name": "stdout",
     "output_type": "stream",
     "text": [
      "CPU times: user 16 ms, sys: 8 ms, total: 24 ms\n",
      "Wall time: 1min 24s\n"
     ]
    }
   ],
   "source": [
    "%%time\n",
    "# 创建模型\n",
    "lr = LogisticRegression(featuresCol = 'features', labelCol = 'label',maxIter=10)\n",
    "lr_model = lr.fit(train)\n"
   ]
  },
  {
   "cell_type": "code",
   "execution_count": 19,
   "metadata": {},
   "outputs": [],
   "source": [
    "#结果预测\n",
    "predictions = lr_model.transform(test)"
   ]
  },
  {
   "cell_type": "code",
   "execution_count": 20,
   "metadata": {},
   "outputs": [
    {
     "data": {
      "text/html": [
       "<div>\n",
       "<style scoped>\n",
       "    .dataframe tbody tr th:only-of-type {\n",
       "        vertical-align: middle;\n",
       "    }\n",
       "\n",
       "    .dataframe tbody tr th {\n",
       "        vertical-align: top;\n",
       "    }\n",
       "\n",
       "    .dataframe thead th {\n",
       "        text-align: right;\n",
       "    }\n",
       "</style>\n",
       "<table border=\"1\" class=\"dataframe\">\n",
       "  <thead>\n",
       "    <tr style=\"text-align: right;\">\n",
       "      <th></th>\n",
       "      <th>sum(prediction)</th>\n",
       "    </tr>\n",
       "  </thead>\n",
       "  <tbody>\n",
       "    <tr>\n",
       "      <th>0</th>\n",
       "      <td>0.307452</td>\n",
       "    </tr>\n",
       "  </tbody>\n",
       "</table>\n",
       "</div>"
      ],
      "text/plain": [
       "   sum(prediction)\n",
       "0         0.307452"
      ]
     },
     "execution_count": 20,
     "metadata": {},
     "output_type": "execute_result"
    }
   ],
   "source": [
    "#抽取所需信息\n",
    "selected = predictions.select(\"label\", \"prediction\", \"probability\", \"CVDLAY\")\n",
    "pred = predictions.select('prediction')\n",
    "sum_pos = pred.groupBy().sum().toPandas()## 预测得到的延迟医疗的人数\n",
    "sum_pos/pred.count()  ## 输出预测得到的延迟医疗的人的比例\n"
   ]
  },
  {
   "cell_type": "code",
   "execution_count": 21,
   "metadata": {},
   "outputs": [
    {
     "name": "stdout",
     "output_type": "stream",
     "text": [
      "AUC： 0.822154945255841\n"
     ]
    }
   ],
   "source": [
    "#技术AUC值\n",
    "from pyspark.ml.evaluation import BinaryClassificationEvaluator\n",
    "# 模型评估，通过原始数据 rawPrediction计算AUC\n",
    "evaluator = BinaryClassificationEvaluator(rawPredictionCol=\"rawPrediction\")\n",
    "print('AUC：', evaluator.evaluate(predictions))"
   ]
  },
  {
   "cell_type": "code",
   "execution_count": 22,
   "metadata": {},
   "outputs": [
    {
     "name": "stdout",
     "output_type": "stream",
     "text": [
      "AUC： 0.822154945255841\n"
     ]
    }
   ],
   "source": [
    "from pyspark.ml.tuning import ParamGridBuilder, CrossValidator\n",
    "\n",
    "# 创建网格参数，用于交叉验证\n",
    "param_grid = (ParamGridBuilder()\n",
    "             .addGrid(lr.maxIter, [1, 5, 10])\n",
    "             .build())\n",
    "# 三折交叉验证，设置模型，网格参数，验证方法，折数\n",
    "cv = CrossValidator(estimator=lr, estimatorParamMaps=param_grid, evaluator=evaluator, numFolds=3)\n",
    "# 交叉验证运行\n",
    "cv_model = cv.fit(train)\n",
    "# 对于测试数据，使用三折交叉验证\n",
    "predictions = cv_model.transform(test)\n",
    "print('AUC：', evaluator.evaluate(predictions))"
   ]
  },
  {
   "cell_type": "markdown",
   "metadata": {},
   "source": [
    "## 决策树"
   ]
  },
  {
   "cell_type": "code",
   "execution_count": 18,
   "metadata": {},
   "outputs": [],
   "source": [
    "from pyspark.ml.classification import DecisionTreeClassifier"
   ]
  },
  {
   "cell_type": "code",
   "execution_count": 19,
   "metadata": {},
   "outputs": [
    {
     "name": "stdout",
     "output_type": "stream",
     "text": [
      "CPU times: user 124 ms, sys: 24 ms, total: 148 ms\n",
      "Wall time: 1min 50s\n"
     ]
    }
   ],
   "source": [
    "%%time\n",
    "# 创建决策树模型\n",
    "dt = DecisionTreeClassifier(featuresCol = 'features', labelCol = 'label', maxDepth = 3)\n",
    "dt_model = dt.fit(train)\n",
    "predictions = dt_model.transform(test)"
   ]
  },
  {
   "cell_type": "code",
   "execution_count": 20,
   "metadata": {},
   "outputs": [
    {
     "name": "stdout",
     "output_type": "stream",
     "text": [
      "DecisionTreeClassificationModel: uid=DecisionTreeClassifier_54aeb1a084b1, depth=3, numNodes=7, numClasses=2, numFeatures=16820\n",
      "  If (feature 16541 <= 1.5)\n",
      "   Predict: 0.0\n",
      "  Else (feature 16541 > 1.5)\n",
      "   If (feature 16026 <= 15.5)\n",
      "    Predict: 0.0\n",
      "   Else (feature 16026 > 15.5)\n",
      "    If (feature 16541 <= 5.5)\n",
      "     Predict: 0.0\n",
      "    Else (feature 16541 > 5.5)\n",
      "     Predict: 1.0\n",
      "\n"
     ]
    }
   ],
   "source": [
    "#查看决策树结构\n",
    "print(dt_model._call_java('toDebugString'))"
   ]
  },
  {
   "cell_type": "code",
   "execution_count": 21,
   "metadata": {},
   "outputs": [
    {
     "data": {
      "text/html": [
       "<div>\n",
       "<style scoped>\n",
       "    .dataframe tbody tr th:only-of-type {\n",
       "        vertical-align: middle;\n",
       "    }\n",
       "\n",
       "    .dataframe tbody tr th {\n",
       "        vertical-align: top;\n",
       "    }\n",
       "\n",
       "    .dataframe thead th {\n",
       "        text-align: right;\n",
       "    }\n",
       "</style>\n",
       "<table border=\"1\" class=\"dataframe\">\n",
       "  <thead>\n",
       "    <tr style=\"text-align: right;\">\n",
       "      <th></th>\n",
       "      <th>sum(prediction)</th>\n",
       "    </tr>\n",
       "  </thead>\n",
       "  <tbody>\n",
       "    <tr>\n",
       "      <th>0</th>\n",
       "      <td>0.102116</td>\n",
       "    </tr>\n",
       "  </tbody>\n",
       "</table>\n",
       "</div>"
      ],
      "text/plain": [
       "   sum(prediction)\n",
       "0         0.102116"
      ]
     },
     "execution_count": 21,
     "metadata": {},
     "output_type": "execute_result"
    }
   ],
   "source": [
    "#抽取所需信息\n",
    "selected = predictions.select(\"label\", \"prediction\", \"probability\", \"CVDLAY\")\n",
    "pred = predictions.select('prediction')\n",
    "sum_pos = pred.groupBy().sum().toPandas()## 预测得到的延迟医疗的人数\n",
    "sum_pos/pred.count()  ## 输出预测得到的延迟医疗的人的比例\n"
   ]
  },
  {
   "cell_type": "code",
   "execution_count": 23,
   "metadata": {},
   "outputs": [
    {
     "data": {
      "text/plain": [
       "0.4748477893199358"
      ]
     },
     "execution_count": 23,
     "metadata": {},
     "output_type": "execute_result"
    }
   ],
   "source": [
    "from pyspark.ml.evaluation import BinaryClassificationEvaluator\n",
    "#计算AUC值\n",
    "evaluator = BinaryClassificationEvaluator()\n",
    "evaluator.evaluate(predictions)"
   ]
  },
  {
   "cell_type": "code",
   "execution_count": 24,
   "metadata": {},
   "outputs": [
    {
     "name": "stdout",
     "output_type": "stream",
     "text": [
      "depth =  6\n"
     ]
    }
   ],
   "source": [
    "#网格调参\n",
    "from pyspark.ml.tuning import ParamGridBuilder, CrossValidator\n",
    "param_grid = (ParamGridBuilder()\n",
    "             .addGrid(dt.maxDepth, [1, 2, 6, 10])\n",
    "             #.addGrid(dt.maxBins, [20, 40, 80])\n",
    "             .build())\n",
    "# 设置三折交叉验证\n",
    "cv = CrossValidator(estimator=dt, estimatorParamMaps=param_grid, evaluator=evaluator, numFolds=3)\n",
    "# 运行cv\n",
    "cv_model = cv.fit(train)\n",
    "# 查看最优模型\n",
    "#print(\"numNodes = \", cv_model.bestModel.numNodes)\n",
    "print(\"depth = \", cv_model.bestModel.depth)"
   ]
  },
  {
   "cell_type": "code",
   "execution_count": 25,
   "metadata": {},
   "outputs": [
    {
     "data": {
      "text/plain": [
       "0.48896989031387156"
      ]
     },
     "execution_count": 25,
     "metadata": {},
     "output_type": "execute_result"
    }
   ],
   "source": [
    "# 使用三折交叉验证进行预测\n",
    "predictions = cv_model.transform(test)\n",
    "evaluator.evaluate(predictions)"
   ]
  },
  {
   "cell_type": "markdown",
   "metadata": {},
   "source": [
    "## 随机森林"
   ]
  },
  {
   "cell_type": "code",
   "execution_count": 26,
   "metadata": {},
   "outputs": [],
   "source": [
    "from pyspark.ml.classification import RandomForestClassifier"
   ]
  },
  {
   "cell_type": "code",
   "execution_count": 27,
   "metadata": {
    "scrolled": true
   },
   "outputs": [
    {
     "name": "stdout",
     "output_type": "stream",
     "text": [
      "CPU times: user 40 ms, sys: 0 ns, total: 40 ms\n",
      "Wall time: 2min 27s\n"
     ]
    }
   ],
   "source": [
    "%%time\n",
    "rf = RandomForestClassifier(featuresCol = 'features', labelCol = 'label')\n",
    "rf_model = rf.fit(train)\n",
    "predictions = rf_model.transform(test)\n"
   ]
  },
  {
   "cell_type": "code",
   "execution_count": 28,
   "metadata": {},
   "outputs": [
    {
     "data": {
      "text/html": [
       "<div>\n",
       "<style scoped>\n",
       "    .dataframe tbody tr th:only-of-type {\n",
       "        vertical-align: middle;\n",
       "    }\n",
       "\n",
       "    .dataframe tbody tr th {\n",
       "        vertical-align: top;\n",
       "    }\n",
       "\n",
       "    .dataframe thead th {\n",
       "        text-align: right;\n",
       "    }\n",
       "</style>\n",
       "<table border=\"1\" class=\"dataframe\">\n",
       "  <thead>\n",
       "    <tr style=\"text-align: right;\">\n",
       "      <th></th>\n",
       "      <th>sum(prediction)</th>\n",
       "    </tr>\n",
       "  </thead>\n",
       "  <tbody>\n",
       "    <tr>\n",
       "      <th>0</th>\n",
       "      <td>0.0</td>\n",
       "    </tr>\n",
       "  </tbody>\n",
       "</table>\n",
       "</div>"
      ],
      "text/plain": [
       "   sum(prediction)\n",
       "0              0.0"
      ]
     },
     "execution_count": 28,
     "metadata": {},
     "output_type": "execute_result"
    }
   ],
   "source": [
    "#抽取所需信息\n",
    "selected = predictions.select(\"label\", \"prediction\", \"probability\", \"CVDLAY\")\n",
    "pred = predictions.select('prediction')\n",
    "sum_pos = pred.groupBy().sum().toPandas()## 预测得到的延迟医疗的人数\n",
    "sum_pos/pred.count()  ## 输出预测得到的延迟医疗的人的比例\n"
   ]
  },
  {
   "cell_type": "code",
   "execution_count": 29,
   "metadata": {},
   "outputs": [
    {
     "data": {
      "text/plain": [
       "0.6354740457779029"
      ]
     },
     "execution_count": 29,
     "metadata": {},
     "output_type": "execute_result"
    }
   ],
   "source": [
    "#计算AUC值\n",
    "evaluator = BinaryClassificationEvaluator()\n",
    "evaluator.evaluate(predictions)"
   ]
  },
  {
   "cell_type": "code",
   "execution_count": null,
   "metadata": {},
   "outputs": [],
   "source": [
    "param_grid = (ParamGridBuilder()\n",
    "             .addGrid(rf.maxDepth, [3, 5, 7])\n",
    "             .addGrid(rf.maxBins, [20, 50])\n",
    "             .addGrid(rf.numTrees, [5, 10])\n",
    "             .build())\n",
    "cv = CrossValidator(estimator=rf, estimatorParamMaps=param_grid, evaluator=evaluator, numFolds=3)\n",
    "cv_model = cv.fit(train)\n",
    "predictions = cv_model.transform(test)\n",
    "evaluator.evaluate(predictions)"
   ]
  },
  {
   "cell_type": "markdown",
   "metadata": {},
   "source": [
    "# 第三部分 选变量建模"
   ]
  },
  {
   "cell_type": "code",
   "execution_count": 35,
   "metadata": {},
   "outputs": [],
   "source": [
    "cols = df.columns\n",
    "#找到所有的string类型的变量\n",
    "#dtypes用来看数据变量类型\n",
    "cat_features = [item[0] for item in df.dtypes if item[1]=='string']\n",
    "#找到所有数字变量\n",
    "num_features = [item[0] for item in df.dtypes if item[1]!='string']\n",
    "num_features.remove('CVDLAY')\n",
    "# 需要删除 CVDLAY列，否则标签泄露"
   ]
  },
  {
   "cell_type": "code",
   "execution_count": 36,
   "metadata": {},
   "outputs": [],
   "source": [
    "choose_features = ['EDUCYR', 'ADPCFL42', 'ADENGY42', 'ADNERV42', 'K6SUM42', 'ADSLEEP42', 'ADNERV42', 'K6SUM42', 'ADSLEEP42', 'UNINS20', \n",
    "            'TOTTCH20', 'TOTEXP20', 'TOTSLF20', 'TOTPRV20', 'TOTPTR20', 'OBTOTV20', 'OBVTCH20', 'OBVEXP20', 'OBVSLF20', \n",
    "            'OBVPRV20', 'OBVPTR20', 'OBDRV20', 'OBDTCH20', 'OBDEXP20', 'OBDSLF20', 'OBDPRV20', 'OBDPTR20', 'OPTOTV20', 'OPTTCH20', \n",
    "            'OPTEXP20', 'OPFTCH20', 'OPFEXP20', 'OTHTCH20', 'OTHEXP20', 'OTHSLF20', 'RXTOT20', 'RXEXP20', 'RXSLF20', 'RXPRV20', \n",
    "            'RXPTR20', 'AGELAST' , 'SEX', 'RACETHX', 'INSCOV20']"
   ]
  },
  {
   "cell_type": "code",
   "execution_count": 37,
   "metadata": {},
   "outputs": [],
   "source": [
    "from pyspark.ml import Pipeline\n",
    "from pyspark.ml.feature import StringIndexer, OneHotEncoder, VectorAssembler"
   ]
  },
  {
   "cell_type": "code",
   "execution_count": 38,
   "metadata": {},
   "outputs": [],
   "source": [
    "stages = []\n",
    "for col in cat_features:\n",
    "    # 字符串转成索引\n",
    "    string_index = StringIndexer(inputCol = col, outputCol = col + 'Index')\n",
    "    # 转换为OneHot编码\n",
    "    encoder = OneHotEncoder(inputCols=[string_index.getOutputCol()], outputCols=[col + \"_one_hot\"])\n",
    "    # 将每个字段的转换方式 放到stages中\n",
    "    stages += [string_index, encoder]"
   ]
  },
  {
   "cell_type": "code",
   "execution_count": 39,
   "metadata": {},
   "outputs": [],
   "source": [
    "# 将CVDLAY转换为索引\n",
    "label_string_index = StringIndexer(inputCol = 'CVDLAY', outputCol = 'label')\n",
    "# 添加到stages中\n",
    "stages += [label_string_index]"
   ]
  },
  {
   "cell_type": "code",
   "execution_count": 40,
   "metadata": {},
   "outputs": [],
   "source": [
    "# 类别变量 + 数值变量\n",
    "assembler_cols = choose_features\n",
    "assembler = VectorAssembler(inputCols=assembler_cols, outputCol=\"features\")\n",
    "stages += [assembler]"
   ]
  },
  {
   "cell_type": "code",
   "execution_count": 32,
   "metadata": {},
   "outputs": [],
   "source": [
    "drop_list = ['label','features']\n",
    "df = df.drop(*drop_list)\n",
    "#df.printSchema()"
   ]
  },
  {
   "cell_type": "code",
   "execution_count": 42,
   "metadata": {},
   "outputs": [],
   "source": [
    "# 使用pipeline完成数据处理\n",
    "pipeline1 = Pipeline(stages=stages)\n",
    "pipeline_model1 = pipeline1.fit(df)\n",
    "df = pipeline_model1.transform(df)\n",
    "selected_cols1 = [\"label\", \"features\"] + cols\n",
    "df = df.select(selected_cols1)"
   ]
  },
  {
   "cell_type": "code",
   "execution_count": 43,
   "metadata": {
    "scrolled": true
   },
   "outputs": [
    {
     "name": "stdout",
     "output_type": "stream",
     "text": [
      "22008\n",
      "5435\n"
     ]
    }
   ],
   "source": [
    "train, test = df.randomSplit([0.8, 0.2], seed=2021)\n",
    "print(train.count())\n",
    "print(test.count())"
   ]
  },
  {
   "cell_type": "markdown",
   "metadata": {},
   "source": [
    "## 逻辑回归"
   ]
  },
  {
   "cell_type": "code",
   "execution_count": 45,
   "metadata": {},
   "outputs": [],
   "source": [
    "from pyspark.ml.classification import LogisticRegression"
   ]
  },
  {
   "cell_type": "code",
   "execution_count": 46,
   "metadata": {},
   "outputs": [
    {
     "name": "stdout",
     "output_type": "stream",
     "text": [
      "CPU times: user 16 ms, sys: 0 ns, total: 16 ms\n",
      "Wall time: 19.9 s\n"
     ]
    }
   ],
   "source": [
    "%%time\n",
    "# 创建模型\n",
    "lr = LogisticRegression(featuresCol = 'features', labelCol = 'label',maxIter=10)\n",
    "lr_model = lr.fit(train)\n"
   ]
  },
  {
   "cell_type": "code",
   "execution_count": 47,
   "metadata": {},
   "outputs": [],
   "source": [
    "#结果预测\n",
    "predictions = lr_model.transform(test)"
   ]
  },
  {
   "cell_type": "code",
   "execution_count": 48,
   "metadata": {},
   "outputs": [
    {
     "data": {
      "text/html": [
       "<div>\n",
       "<style scoped>\n",
       "    .dataframe tbody tr th:only-of-type {\n",
       "        vertical-align: middle;\n",
       "    }\n",
       "\n",
       "    .dataframe tbody tr th {\n",
       "        vertical-align: top;\n",
       "    }\n",
       "\n",
       "    .dataframe thead th {\n",
       "        text-align: right;\n",
       "    }\n",
       "</style>\n",
       "<table border=\"1\" class=\"dataframe\">\n",
       "  <thead>\n",
       "    <tr style=\"text-align: right;\">\n",
       "      <th></th>\n",
       "      <th>sum(prediction)</th>\n",
       "    </tr>\n",
       "  </thead>\n",
       "  <tbody>\n",
       "    <tr>\n",
       "      <th>0</th>\n",
       "      <td>0.030175</td>\n",
       "    </tr>\n",
       "  </tbody>\n",
       "</table>\n",
       "</div>"
      ],
      "text/plain": [
       "   sum(prediction)\n",
       "0         0.030175"
      ]
     },
     "execution_count": 48,
     "metadata": {},
     "output_type": "execute_result"
    }
   ],
   "source": [
    "#抽取所需信息\n",
    "selected = predictions.select(\"label\", \"prediction\", \"probability\", \"CVDLAY\")\n",
    "pred = predictions.select('prediction')\n",
    "sum_pos = pred.groupBy().sum().toPandas()## 预测得到的延迟医疗的人数\n",
    "sum_pos/pred.count()  ## 输出预测得到的延迟医疗的人的比例\n"
   ]
  },
  {
   "cell_type": "code",
   "execution_count": 49,
   "metadata": {},
   "outputs": [
    {
     "name": "stdout",
     "output_type": "stream",
     "text": [
      "AUC： 0.6198187510030135\n"
     ]
    }
   ],
   "source": [
    "#技术AUC值\n",
    "from pyspark.ml.evaluation import BinaryClassificationEvaluator\n",
    "# 模型评估，通过原始数据 rawPrediction计算AUC\n",
    "evaluator = BinaryClassificationEvaluator(rawPredictionCol=\"rawPrediction\")\n",
    "print('AUC：', evaluator.evaluate(predictions))"
   ]
  },
  {
   "cell_type": "code",
   "execution_count": 51,
   "metadata": {},
   "outputs": [
    {
     "name": "stdout",
     "output_type": "stream",
     "text": [
      "AUC： 0.6187750593671902\n"
     ]
    }
   ],
   "source": [
    "from pyspark.ml.tuning import ParamGridBuilder, CrossValidator\n",
    "\n",
    "# 创建网格参数，用于交叉验证\n",
    "param_grid = (ParamGridBuilder()\n",
    "             .addGrid(lr.regParam, [0.01, 0.5, 2.0])\n",
    "             .addGrid(lr.elasticNetParam, [0.0, 0.5, 1.0])\n",
    "             .addGrid(lr.maxIter, [1, 5, 10])\n",
    "             .build())\n",
    "# 三折交叉验证，设置模型，网格参数，验证方法，折数\n",
    "cv = CrossValidator(estimator=lr, estimatorParamMaps=param_grid, evaluator=evaluator, numFolds=3)\n",
    "# 交叉验证运行\n",
    "cv_model = cv.fit(train)\n",
    "# 对于测试数据，使用三折交叉验证\n",
    "predictions = cv_model.transform(test)\n",
    "print('AUC：', evaluator.evaluate(predictions))"
   ]
  },
  {
   "cell_type": "markdown",
   "metadata": {},
   "source": [
    "## 决策树"
   ]
  },
  {
   "cell_type": "code",
   "execution_count": 52,
   "metadata": {},
   "outputs": [],
   "source": [
    "from pyspark.ml.classification import DecisionTreeClassifier"
   ]
  },
  {
   "cell_type": "code",
   "execution_count": 53,
   "metadata": {},
   "outputs": [
    {
     "name": "stdout",
     "output_type": "stream",
     "text": [
      "CPU times: user 28 ms, sys: 0 ns, total: 28 ms\n",
      "Wall time: 26.7 s\n"
     ]
    }
   ],
   "source": [
    "%%time\n",
    "# 创建决策树模型\n",
    "dt = DecisionTreeClassifier(featuresCol = 'features', labelCol = 'label', maxDepth = 3)\n",
    "dt_model = dt.fit(train)\n",
    "predictions = dt_model.transform(test)"
   ]
  },
  {
   "cell_type": "code",
   "execution_count": 54,
   "metadata": {},
   "outputs": [
    {
     "name": "stdout",
     "output_type": "stream",
     "text": [
      "DecisionTreeClassificationModel: uid=DecisionTreeClassifier_fd58ac546657, depth=3, numNodes=7, numClasses=2, numFeatures=44\n",
      "  If (feature 15 <= 1.5)\n",
      "   Predict: 0.0\n",
      "  Else (feature 15 > 1.5)\n",
      "   If (feature 0 <= 13.5)\n",
      "    Predict: 0.0\n",
      "   Else (feature 0 > 13.5)\n",
      "    If (feature 4 <= 1.5)\n",
      "     Predict: 0.0\n",
      "    Else (feature 4 > 1.5)\n",
      "     Predict: 1.0\n",
      "\n"
     ]
    }
   ],
   "source": [
    "#查看决策树结构\n",
    "print(dt_model._call_java('toDebugString'))"
   ]
  },
  {
   "cell_type": "code",
   "execution_count": 55,
   "metadata": {},
   "outputs": [
    {
     "data": {
      "text/html": [
       "<div>\n",
       "<style scoped>\n",
       "    .dataframe tbody tr th:only-of-type {\n",
       "        vertical-align: middle;\n",
       "    }\n",
       "\n",
       "    .dataframe tbody tr th {\n",
       "        vertical-align: top;\n",
       "    }\n",
       "\n",
       "    .dataframe thead th {\n",
       "        text-align: right;\n",
       "    }\n",
       "</style>\n",
       "<table border=\"1\" class=\"dataframe\">\n",
       "  <thead>\n",
       "    <tr style=\"text-align: right;\">\n",
       "      <th></th>\n",
       "      <th>sum(prediction)</th>\n",
       "    </tr>\n",
       "  </thead>\n",
       "  <tbody>\n",
       "    <tr>\n",
       "      <th>0</th>\n",
       "      <td>0.102484</td>\n",
       "    </tr>\n",
       "  </tbody>\n",
       "</table>\n",
       "</div>"
      ],
      "text/plain": [
       "   sum(prediction)\n",
       "0         0.102484"
      ]
     },
     "execution_count": 55,
     "metadata": {},
     "output_type": "execute_result"
    }
   ],
   "source": [
    "#抽取所需信息\n",
    "selected = predictions.select(\"label\", \"prediction\", \"probability\", \"CVDLAY\")\n",
    "pred = predictions.select('prediction')\n",
    "sum_pos = pred.groupBy().sum().toPandas()## 预测得到的延迟医疗的人数\n",
    "sum_pos/pred.count()  ## 输出预测得到的延迟医疗的人的比例\n"
   ]
  },
  {
   "cell_type": "code",
   "execution_count": 56,
   "metadata": {},
   "outputs": [
    {
     "data": {
      "text/plain": [
       "0.39523832540973175"
      ]
     },
     "execution_count": 56,
     "metadata": {},
     "output_type": "execute_result"
    }
   ],
   "source": [
    "#计算AUC值\n",
    "evaluator = BinaryClassificationEvaluator()\n",
    "evaluator.evaluate(predictions)"
   ]
  },
  {
   "cell_type": "code",
   "execution_count": 57,
   "metadata": {},
   "outputs": [
    {
     "name": "stdout",
     "output_type": "stream",
     "text": [
      "numNodes =  1\n",
      "depth =  0\n"
     ]
    }
   ],
   "source": [
    "#网格调参\n",
    "from pyspark.ml.tuning import ParamGridBuilder, CrossValidator\n",
    "param_grid = (ParamGridBuilder()\n",
    "             .addGrid(dt.maxDepth, [1, 2, 6, 10])\n",
    "             #.addGrid(dt.maxBins, [20, 40, 80])\n",
    "             .build())\n",
    "# 设置三折交叉验证\n",
    "cv = CrossValidator(estimator=dt, estimatorParamMaps=param_grid, evaluator=evaluator, numFolds=3)\n",
    "# 运行cv\n",
    "cv_model = cv.fit(train)\n",
    "# 查看最优模型\n",
    "print(\"numNodes = \", cv_model.bestModel.numNodes)\n",
    "print(\"depth = \", cv_model.bestModel.depth)"
   ]
  },
  {
   "cell_type": "code",
   "execution_count": 58,
   "metadata": {},
   "outputs": [
    {
     "data": {
      "text/plain": [
       "0.5"
      ]
     },
     "execution_count": 58,
     "metadata": {},
     "output_type": "execute_result"
    }
   ],
   "source": [
    "# 使用三折交叉验证进行预测\n",
    "predictions = cv_model.transform(test)\n",
    "evaluator.evaluate(predictions)"
   ]
  },
  {
   "cell_type": "markdown",
   "metadata": {},
   "source": [
    "## 随机森林"
   ]
  },
  {
   "cell_type": "code",
   "execution_count": 59,
   "metadata": {},
   "outputs": [],
   "source": [
    "from pyspark.ml.classification import RandomForestClassifier"
   ]
  },
  {
   "cell_type": "code",
   "execution_count": 60,
   "metadata": {
    "scrolled": true
   },
   "outputs": [
    {
     "name": "stdout",
     "output_type": "stream",
     "text": [
      "CPU times: user 28 ms, sys: 0 ns, total: 28 ms\n",
      "Wall time: 31.1 s\n"
     ]
    }
   ],
   "source": [
    "%%time\n",
    "rf = RandomForestClassifier(featuresCol = 'features', labelCol = 'label')\n",
    "rf_model = rf.fit(train)\n",
    "predictions = rf_model.transform(test)\n"
   ]
  },
  {
   "cell_type": "code",
   "execution_count": 61,
   "metadata": {},
   "outputs": [
    {
     "data": {
      "text/html": [
       "<div>\n",
       "<style scoped>\n",
       "    .dataframe tbody tr th:only-of-type {\n",
       "        vertical-align: middle;\n",
       "    }\n",
       "\n",
       "    .dataframe tbody tr th {\n",
       "        vertical-align: top;\n",
       "    }\n",
       "\n",
       "    .dataframe thead th {\n",
       "        text-align: right;\n",
       "    }\n",
       "</style>\n",
       "<table border=\"1\" class=\"dataframe\">\n",
       "  <thead>\n",
       "    <tr style=\"text-align: right;\">\n",
       "      <th></th>\n",
       "      <th>sum(prediction)</th>\n",
       "    </tr>\n",
       "  </thead>\n",
       "  <tbody>\n",
       "    <tr>\n",
       "      <th>0</th>\n",
       "      <td>0.007544</td>\n",
       "    </tr>\n",
       "  </tbody>\n",
       "</table>\n",
       "</div>"
      ],
      "text/plain": [
       "   sum(prediction)\n",
       "0         0.007544"
      ]
     },
     "execution_count": 61,
     "metadata": {},
     "output_type": "execute_result"
    }
   ],
   "source": [
    "#抽取所需信息\n",
    "selected = predictions.select(\"label\", \"prediction\", \"probability\", \"CVDLAY\")\n",
    "pred = predictions.select('prediction')\n",
    "sum_pos = pred.groupBy().sum().toPandas()## 预测得到的延迟医疗的人数\n",
    "sum_pos/pred.count()  ## 输出预测得到的延迟医疗的人的比例\n"
   ]
  },
  {
   "cell_type": "code",
   "execution_count": 62,
   "metadata": {},
   "outputs": [
    {
     "data": {
      "text/plain": [
       "0.6382344645881849"
      ]
     },
     "execution_count": 62,
     "metadata": {},
     "output_type": "execute_result"
    }
   ],
   "source": [
    "#计算AUC值\n",
    "evaluator = BinaryClassificationEvaluator()\n",
    "evaluator.evaluate(predictions)"
   ]
  },
  {
   "cell_type": "code",
   "execution_count": null,
   "metadata": {},
   "outputs": [],
   "source": [
    "param_grid = (ParamGridBuilder()\n",
    "             .addGrid(rf.maxDepth, [3, 5, 7])\n",
    "             .addGrid(rf.maxBins, [20, 50])\n",
    "             .addGrid(rf.numTrees, [5, 10])\n",
    "             .build())\n",
    "cv = CrossValidator(estimator=rf, estimatorParamMaps=param_grid, evaluator=evaluator, numFolds=3)\n",
    "cv_model = cv.fit(train)\n",
    "predictions = cv_model.transform(test)\n",
    "evaluator.evaluate(predictions)"
   ]
  },
  {
   "cell_type": "code",
   "execution_count": null,
   "metadata": {},
   "outputs": [],
   "source": []
  },
  {
   "cell_type": "code",
   "execution_count": null,
   "metadata": {},
   "outputs": [],
   "source": []
  }
 ],
 "metadata": {
  "kernelspec": {
   "display_name": "Python 3 (ipykernel)",
   "language": "python",
   "name": "python3"
  },
  "language_info": {
   "codemirror_mode": {
    "name": "ipython",
    "version": 3
   },
   "file_extension": ".py",
   "mimetype": "text/x-python",
   "name": "python",
   "nbconvert_exporter": "python",
   "pygments_lexer": "ipython3",
   "version": "3.12.4"
  }
 },
 "nbformat": 4,
 "nbformat_minor": 4
}
